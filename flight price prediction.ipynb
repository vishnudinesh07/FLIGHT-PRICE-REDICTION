{
 "cells": [
  {
   "cell_type": "markdown",
   "id": "10915a98",
   "metadata": {},
   "source": [
    "# FLIGHT PRICE PREDICTION"
   ]
  },
  {
   "cell_type": "markdown",
   "id": "dd3b1502",
   "metadata": {},
   "source": [
    "### Importing necessarry libraries"
   ]
  },
  {
   "cell_type": "code",
   "execution_count": 1,
   "id": "312fbc11",
   "metadata": {},
   "outputs": [],
   "source": [
    "import numpy as np\n",
    "import pandas as pd\n",
    "import matplotlib.pyplot as plt\n",
    "import seaborn as sns\n",
    "import pickle as pkl\n",
    "\n",
    "sns.set()\n",
    "\n",
    "from sklearn.model_selection import train_test_split, RandomizedSearchCV\n",
    "from sklearn.linear_model import LinearRegression, Ridge, Lasso, ElasticNet\n",
    "from sklearn.preprocessing import StandardScaler, PolynomialFeatures\n",
    "from sklearn.pipeline import make_pipeline\n",
    "from sklearn.model_selection import cross_val_score, train_test_split, KFold, GridSearchCV\n",
    "from sklearn.ensemble import RandomForestRegressor, ExtraTreesRegressor\n",
    "from sklearn import metrics"
   ]
  },
  {
   "cell_type": "markdown",
   "id": "dbd855d2",
   "metadata": {},
   "source": [
    "## Scraped Data EDA: <a class=\"anchor\" id=\"eda\"></a>\n",
    "### Loading the scraped data"
   ]
  },
  {
   "cell_type": "code",
   "execution_count": 2,
   "id": "fbb7fe38",
   "metadata": {},
   "outputs": [],
   "source": [
    "df_1 = pd.read_csv(\"/Users/vishnudinesh/Desktop/data/PAR_NYC.csv\")\n",
    "df_2 = pd.read_csv(\"/Users/vishnudinesh/Desktop/data/PAR_SVO.csv\")\n",
    "df_3 = pd.read_csv(\"/Users/vishnudinesh/Desktop/data/SVO_NYC.csv\")\n",
    "df_4 = pd.read_csv(\"/Users/vishnudinesh/Desktop/data/SVO_RUH.csv\")\n",
    "df_5 = pd.read_csv(\"/Users/vishnudinesh/Desktop/data/NYC_PAR.csv\")\n",
    "df_6 = pd.read_csv(\"/Users/vishnudinesh/Desktop/data/NYC_SVO.csv\")\n",
    "df_7 = pd.read_csv(\"/Users/vishnudinesh/Desktop/data/RUH_NYC.csv\")\n",
    "df_8 = pd.read_csv(\"/Users/vishnudinesh/Desktop/data/RUH_PAR.csv\")\n",
    "df_9 = pd.read_csv(\"/Users/vishnudinesh/Desktop/data/RUH_SVO.csv\")\n",
    "df_10 = pd.read_csv(\"/Users/vishnudinesh/Desktop/data/SVO_PAR.csv\")\n",
    "df_11 = pd.read_csv(\"/Users/vishnudinesh/Desktop/data/PAR_RUH.csv\")\n",
    "df_12 = pd.read_csv(\"/Users/vishnudinesh/Desktop/data/NYC_RUH.csv\")"
   ]
  },
  {
   "cell_type": "code",
   "execution_count": 3,
   "id": "92e3e085",
   "metadata": {},
   "outputs": [
    {
     "name": "stdout",
     "output_type": "stream",
     "text": [
      "PAR => NYC route has 14881 trips\n",
      "PAR => SVO route has 2403 trips\n",
      "SVO => NYC route has 4202 trips\n",
      "SVO => RUH route has 2235 trips\n",
      "NYC => PAR route has 5334 trips\n",
      "NYC => SVO route has 1905 trips\n",
      "RUH => NYC route has 7279 trips\n",
      "RUH => PAR route has 553 trips\n",
      "RUH => SVO route has 2725 trips\n",
      "SVO => PAR route has 3314 trips\n",
      "PAR => RUH route has 7327 trips\n",
      "NYC => RUH route has 3205 trips\n"
     ]
    }
   ],
   "source": [
    "print(f\"{df_1['Source'][0]} => {df_1['Destination'][0]} route has {df_1.shape[0]} trips\")\n",
    "print(f\"{df_2['Source'][0]} => {df_2['Destination'][0]} route has {df_2.shape[0]} trips\")\n",
    "print(f\"{df_3['Source'][0]} => {df_3['Destination'][0]} route has {df_3.shape[0]} trips\")\n",
    "print(f\"{df_4['Source'][0]} => {df_4['Destination'][0]} route has {df_4.shape[0]} trips\")\n",
    "print(f\"{df_5['Source'][0]} => {df_5['Destination'][0]} route has {df_5.shape[0]} trips\")\n",
    "print(f\"{df_6['Source'][0]} => {df_6['Destination'][0]} route has {df_6.shape[0]} trips\")\n",
    "print(f\"{df_7['Source'][0]} => {df_7['Destination'][0]} route has {df_7.shape[0]} trips\")\n",
    "print(f\"{df_8['Source'][0]} => {df_8['Destination'][0]} route has {df_8.shape[0]} trips\")\n",
    "print(f\"{df_9['Source'][0]} => {df_9['Destination'][0]} route has {df_9.shape[0]} trips\")\n",
    "print(f\"{df_10['Source'][0]} => {df_10['Destination'][0]} route has {df_10.shape[0]} trips\")\n",
    "print(f\"{df_11['Source'][0]} => {df_11['Destination'][0]} route has {df_11.shape[0]} trips\")\n",
    "print(f\"{df_12['Source'][0]} => {df_12['Destination'][0]} route has {df_12.shape[0]} trips\")"
   ]
  },
  {
   "cell_type": "markdown",
   "id": "7368c341",
   "metadata": {},
   "source": [
    "### Defining functions to clean the data"
   ]
  },
  {
   "cell_type": "code",
   "execution_count": 4,
   "id": "e01fdee1",
   "metadata": {},
   "outputs": [],
   "source": [
    "# convert duration to numerical format in minutes\n",
    "def clean_duration(duration):\n",
    "    duration = list(duration)\n",
    "    duration_hours = []\n",
    "    duration_mins = []\n",
    "    for i in range(len(duration)):\n",
    "        duration_hours.append(int(duration[i].split(sep = \"h\")[0])) # Extract hours from duration\n",
    "        duration_mins.append(int(duration[i].split(sep = \"m\")[0].split()[-1])) # Extracts only minutes from duration\n",
    "\n",
    "    d = []\n",
    "    for i in range(len(duration)):\n",
    "        d.append(duration_hours[i]*60+duration_mins[i])\n",
    "        \n",
    "    return d\n",
    "\n",
    "# convert price to numerical format in USD\n",
    "def clean_price(price):\n",
    "    price = price.str.replace(',','',regex=True)\n",
    "    price = price.str.replace('SAR','',regex=True)\n",
    "    price = price.str.strip()\n",
    "    price = round(pd.to_numeric(price)/3.75,2)\n",
    "    return price\n",
    "\n",
    "# convert date to datetime format\n",
    "def clean_date(date):\n",
    "    date = pd.to_datetime(date)\n",
    "    return date\n",
    "\n",
    "# get price quantile to deal with outliers\n",
    "def get_price_quantile(price):\n",
    "    Q1 = price.quantile(0.25)\n",
    "    Q3 = price.quantile(0.75)\n",
    "    IQR = Q3 - Q1\n",
    "    lower_lim = Q1 - 1.5 * IQR\n",
    "    upper_lim = Q3 + 1.5 * IQR\n",
    "    return (lower_lim,upper_lim)\n",
    "\n",
    "# get average of each airline\n",
    "def get_avg_per_airline(x):\n",
    "    # average for trips with multiple airlines\n",
    "    multiple_airlines = x[x[\"Airline\"].str.contains(\",\")]\n",
    "    b = list(multiple_airlines[\"Airline\"].str.split(\",\"))\n",
    "    d = [] # Airline 1\n",
    "    e = [] # Airline 2\n",
    "    for i in range(len(b)):\n",
    "        d.append(b[i][0])\n",
    "        e.append(b[i][1])\n",
    "    for i in range(len(e)):\n",
    "        e[i] = e[i].strip()\n",
    "    m_airlines = list(set(d)) + list(set(e))\n",
    "    column_names = [\"Airline\", \"Average Price\"]\n",
    "    t_ = pd.DataFrame(columns = column_names)\n",
    "    for airline in m_airlines:\n",
    "        t = pd.DataFrame(x[x[\"Airline\"].str.contains(airline)][\"Airline\"])\n",
    "        t[\"Average Price\"] = x[x[\"Airline\"].str.contains(airline)][\"Price\"].mean()\n",
    "        t_ = t_.append(t)\n",
    "    t__ = t_.groupby(\"Airline\",as_index = False)[\"Average Price\"].mean()\n",
    "    k = multiple_airlines.copy()\n",
    "    k = k.merge(t__, on = \"Airline\", how = \"left\")\n",
    "    \n",
    "    # average for trips with single airlines\n",
    "    single_airlines = x[~x[\"Airline\"].str.contains(\",\")]\n",
    "    avg_per_airline = single_airlines.groupby(\"Airline\", as_index = False)[\"Price\"].mean()\n",
    "    avg_per_airline = avg_per_airline.rename(columns={\"Price\" : \"Average Price\"})\n",
    "    temp = single_airlines.copy()\n",
    "    temp = temp.merge(avg_per_airline, on='Airline', how =\"left\")\n",
    "    \n",
    "    temp_1 = temp.groupby(\"Airline\", as_index = False)[\"Average Price\"].mean()\n",
    "    k_1 = k.groupby(\"Airline\", as_index = False)[\"Average Price\"].mean()\n",
    "    k_temp = pd.concat([k_1,temp_1])\n",
    "    y = x.merge(k_temp, on = \"Airline\")\n",
    "    \n",
    "    return y\n"
   ]
  },
  {
   "cell_type": "code",
   "execution_count": 5,
   "id": "9b4ce84d",
   "metadata": {},
   "outputs": [],
   "source": [
    "dfs_raw = [df_1,df_2,df_3,df_4,df_5,df_6,df_7,df_8,df_9,df_10,df_11,df_12]"
   ]
  },
  {
   "cell_type": "code",
   "execution_count": 6,
   "id": "11331c2f",
   "metadata": {},
   "outputs": [],
   "source": [
    "# cleaning the data\n",
    "dfs = []\n",
    "for df in dfs_raw:\n",
    "    df.drop_duplicates() # drop duplicate rows\n",
    "    df[\"Duration\"] = clean_duration(df[\"Duration\"]) # convert duration to numerical minutes format\n",
    "    df[\"Price\"] = clean_price(df[\"Price\"]) # convert price to numerical format in USD\n",
    "    df[\"Date\"] = clean_date(df[\"Date\"]) # convert date to datetime format\n",
    "    dfs.append(get_avg_per_airline(df)) # get average per airline\n"
   ]
  },
  {
   "cell_type": "markdown",
   "id": "5ce3b7c0",
   "metadata": {},
   "source": [
    "### Studying outliers"
   ]
  },
  {
   "cell_type": "code",
   "execution_count": 7,
   "id": "101a17af",
   "metadata": {
    "scrolled": false
   },
   "outputs": [
    {
     "data": {
      "image/png": "[encoded data removed]",
      "text/plain": [
       "<Figure size 1080x1080 with 12 Axes>"
      ]
     },
     "metadata": {},
     "output_type": "display_data"
    }
   ],
   "source": [
    "# boxplots for each route\n",
    "k=0\n",
    "figure, axis = plt.subplots(4, 3, figsize=(15,15))\n",
    "for i in range(4):\n",
    "    for j in range(3):\n",
    "        axis[i,j].boxplot(dfs[k]['Price'])\n",
    "        axis[i,j].set_title(f\"{dfs[k]['Source'][0]} TO {dfs[k]['Destination'][0]}\")\n",
    "        k += 1"
   ]
  },
  {
   "cell_type": "markdown",
   "id": "681fa046",
   "metadata": {},
   "source": [
    "#### It is apparent that all routes have outliers, so we'll deal with them by IQR"
   ]
  },
  {
   "cell_type": "code",
   "execution_count": 8,
   "id": "1752261c",
   "metadata": {},
   "outputs": [],
   "source": [
    "# get quantile to deal with outliers\n",
    "lower = []\n",
    "upper = []\n",
    "for df in dfs:\n",
    "    x = get_price_quantile(df['Price'])\n",
    "    lower.append(x[0])\n",
    "    upper.append(x[1])"
   ]
  },
  {
   "cell_type": "code",
   "execution_count": 9,
   "id": "68008836",
   "metadata": {},
   "outputs": [],
   "source": [
    "# drop outliers\n",
    "k = 0\n",
    "for df in dfs:\n",
    "    low = df['Price'] < lower[k]\n",
    "    up = df['Price'] > upper[k]\n",
    "    df['Price'] = df['Price'][~(low|up)]\n",
    "    df.dropna(inplace=True)\n",
    "    df.reset_index(drop = True,inplace=True)\n",
    "    k+=1"
   ]
  },
  {
   "cell_type": "code",
   "execution_count": 10,
   "id": "cbed5070",
   "metadata": {},
   "outputs": [
    {
     "data": {
      "image/png": "[encoded data removed]",
      "text/plain": [
       "<Figure size 1080x1080 with 12 Axes>"
      ]
     },
     "metadata": {},
     "output_type": "display_data"
    }
   ],
   "source": [
    "# boxplot for each route after dealing with outliers\n",
    "k=0\n",
    "figure, axis = plt.subplots(4, 3, figsize=(15,15))\n",
    "for i in range(4):\n",
    "    for j in range(3):\n",
    "        axis[i,j].boxplot(dfs[k]['Price'])\n",
    "        axis[i,j].set_title(f\"{dfs[k]['Source'][0]} TO {dfs[k]['Destination'][0]}\")\n",
    "        k += 1"
   ]
  },
  {
   "cell_type": "markdown",
   "id": "0a9e2aab",
   "metadata": {},
   "source": [
    "#### Now the data is much better, the total dropped data is 5,266 rows out of 55,363."
   ]
  },
  {
   "cell_type": "code",
   "execution_count": 11,
   "id": "feb203a8",
   "metadata": {},
   "outputs": [
    {
     "data": {
      "text/html": [
       "<div>\n",
       "<style scoped>\n",
       "    .dataframe tbody tr th:only-of-type {\n",
       "        vertical-align: middle;\n",
       "    }\n",
       "\n",
       "    .dataframe tbody tr th {\n",
       "        vertical-align: top;\n",
       "    }\n",
       "\n",
       "    .dataframe thead th {\n",
       "        text-align: right;\n",
       "    }\n",
       "</style>\n",
       "<table border=\"1\" class=\"dataframe\">\n",
       "  <thead>\n",
       "    <tr style=\"text-align: right;\">\n",
       "      <th></th>\n",
       "      <th>Airline</th>\n",
       "      <th>Source</th>\n",
       "      <th>Destination</th>\n",
       "      <th>Duration</th>\n",
       "      <th>Total stops</th>\n",
       "      <th>Price</th>\n",
       "      <th>Date</th>\n",
       "      <th>Average Price</th>\n",
       "    </tr>\n",
       "  </thead>\n",
       "  <tbody>\n",
       "    <tr>\n",
       "      <th>0</th>\n",
       "      <td>TAP AIR PORTUGAL</td>\n",
       "      <td>PAR</td>\n",
       "      <td>NYC</td>\n",
       "      <td>770</td>\n",
       "      <td>1 stop</td>\n",
       "      <td>379.47</td>\n",
       "      <td>2022-02-01</td>\n",
       "      <td>441.343760</td>\n",
       "    </tr>\n",
       "    <tr>\n",
       "      <th>1</th>\n",
       "      <td>TAP AIR PORTUGAL</td>\n",
       "      <td>PAR</td>\n",
       "      <td>NYC</td>\n",
       "      <td>770</td>\n",
       "      <td>1 stop</td>\n",
       "      <td>379.47</td>\n",
       "      <td>2022-02-01</td>\n",
       "      <td>441.343760</td>\n",
       "    </tr>\n",
       "    <tr>\n",
       "      <th>2</th>\n",
       "      <td>TAP AIR PORTUGAL</td>\n",
       "      <td>PAR</td>\n",
       "      <td>NYC</td>\n",
       "      <td>810</td>\n",
       "      <td>1 stop</td>\n",
       "      <td>379.47</td>\n",
       "      <td>2022-02-01</td>\n",
       "      <td>441.343760</td>\n",
       "    </tr>\n",
       "    <tr>\n",
       "      <th>3</th>\n",
       "      <td>TAP AIR PORTUGAL</td>\n",
       "      <td>PAR</td>\n",
       "      <td>NYC</td>\n",
       "      <td>890</td>\n",
       "      <td>1 stop</td>\n",
       "      <td>379.47</td>\n",
       "      <td>2022-02-01</td>\n",
       "      <td>441.343760</td>\n",
       "    </tr>\n",
       "    <tr>\n",
       "      <th>4</th>\n",
       "      <td>TAP AIR PORTUGAL</td>\n",
       "      <td>PAR</td>\n",
       "      <td>NYC</td>\n",
       "      <td>1030</td>\n",
       "      <td>1 stop</td>\n",
       "      <td>379.47</td>\n",
       "      <td>2022-02-01</td>\n",
       "      <td>441.343760</td>\n",
       "    </tr>\n",
       "    <tr>\n",
       "      <th>...</th>\n",
       "      <td>...</td>\n",
       "      <td>...</td>\n",
       "      <td>...</td>\n",
       "      <td>...</td>\n",
       "      <td>...</td>\n",
       "      <td>...</td>\n",
       "      <td>...</td>\n",
       "      <td>...</td>\n",
       "    </tr>\n",
       "    <tr>\n",
       "      <th>3046</th>\n",
       "      <td>SAS, Pegasus Airlines</td>\n",
       "      <td>NYC</td>\n",
       "      <td>RUH</td>\n",
       "      <td>1300</td>\n",
       "      <td>2 stops</td>\n",
       "      <td>930.40</td>\n",
       "      <td>2022-04-13</td>\n",
       "      <td>838.732500</td>\n",
       "    </tr>\n",
       "    <tr>\n",
       "      <th>3047</th>\n",
       "      <td>Qatar Airways, SAUDIA</td>\n",
       "      <td>NYC</td>\n",
       "      <td>RUH</td>\n",
       "      <td>1420</td>\n",
       "      <td>2 stops</td>\n",
       "      <td>1018.40</td>\n",
       "      <td>2022-04-13</td>\n",
       "      <td>1972.813714</td>\n",
       "    </tr>\n",
       "    <tr>\n",
       "      <th>3048</th>\n",
       "      <td>Qatar Airways, MEA</td>\n",
       "      <td>NYC</td>\n",
       "      <td>RUH</td>\n",
       "      <td>1415</td>\n",
       "      <td>2 stops</td>\n",
       "      <td>1049.87</td>\n",
       "      <td>2022-04-13</td>\n",
       "      <td>1133.548015</td>\n",
       "    </tr>\n",
       "    <tr>\n",
       "      <th>3049</th>\n",
       "      <td>Emirates, Turkish Airlines</td>\n",
       "      <td>NYC</td>\n",
       "      <td>RUH</td>\n",
       "      <td>1100</td>\n",
       "      <td>2 stops</td>\n",
       "      <td>1053.60</td>\n",
       "      <td>2022-04-13</td>\n",
       "      <td>1023.900221</td>\n",
       "    </tr>\n",
       "    <tr>\n",
       "      <th>3050</th>\n",
       "      <td>Lufthansa, MEA</td>\n",
       "      <td>NYC</td>\n",
       "      <td>RUH</td>\n",
       "      <td>1115</td>\n",
       "      <td>3 stops</td>\n",
       "      <td>1139.73</td>\n",
       "      <td>2022-04-13</td>\n",
       "      <td>1023.714222</td>\n",
       "    </tr>\n",
       "  </tbody>\n",
       "</table>\n",
       "<p>50097 rows × 8 columns</p>\n",
       "</div>"
      ],
      "text/plain": [
       "                         Airline Source Destination  Duration Total stops  \\\n",
       "0               TAP AIR PORTUGAL    PAR         NYC       770     1 stop    \n",
       "1               TAP AIR PORTUGAL    PAR         NYC       770     1 stop    \n",
       "2               TAP AIR PORTUGAL    PAR         NYC       810     1 stop    \n",
       "3               TAP AIR PORTUGAL    PAR         NYC       890     1 stop    \n",
       "4               TAP AIR PORTUGAL    PAR         NYC      1030     1 stop    \n",
       "...                          ...    ...         ...       ...         ...   \n",
       "3046       SAS, Pegasus Airlines    NYC         RUH      1300    2 stops    \n",
       "3047       Qatar Airways, SAUDIA    NYC         RUH      1420    2 stops    \n",
       "3048          Qatar Airways, MEA    NYC         RUH      1415    2 stops    \n",
       "3049  Emirates, Turkish Airlines    NYC         RUH      1100    2 stops    \n",
       "3050              Lufthansa, MEA    NYC         RUH      1115    3 stops    \n",
       "\n",
       "        Price       Date  Average Price  \n",
       "0      379.47 2022-02-01     441.343760  \n",
       "1      379.47 2022-02-01     441.343760  \n",
       "2      379.47 2022-02-01     441.343760  \n",
       "3      379.47 2022-02-01     441.343760  \n",
       "4      379.47 2022-02-01     441.343760  \n",
       "...       ...        ...            ...  \n",
       "3046   930.40 2022-04-13     838.732500  \n",
       "3047  1018.40 2022-04-13    1972.813714  \n",
       "3048  1049.87 2022-04-13    1133.548015  \n",
       "3049  1053.60 2022-04-13    1023.900221  \n",
       "3050  1139.73 2022-04-13    1023.714222  \n",
       "\n",
       "[50097 rows x 8 columns]"
      ]
     },
     "execution_count": 11,
     "metadata": {},
     "output_type": "execute_result"
    }
   ],
   "source": [
    "# concat all routes into one dataframe\n",
    "df = pd.concat(dfs)\n",
    "df"
   ]
  },
  {
   "cell_type": "code",
   "execution_count": 12,
   "id": "62b2a0cf",
   "metadata": {},
   "outputs": [
    {
     "data": {
      "text/plain": [
       "Airline          0\n",
       "Source           0\n",
       "Destination      0\n",
       "Duration         0\n",
       "Total stops      0\n",
       "Price            0\n",
       "Date             0\n",
       "Average Price    0\n",
       "dtype: int64"
      ]
     },
     "execution_count": 12,
     "metadata": {},
     "output_type": "execute_result"
    }
   ],
   "source": [
    "# check for null values\n",
    "df.isnull().sum()"
   ]
  },
  {
   "cell_type": "markdown",
   "id": "86b55b03",
   "metadata": {},
   "source": [
    "## Handling Categorical Data: <a class=\"anchor\" id=\"cat_data\"></a>\n"
   ]
  },
  {
   "cell_type": "code",
   "execution_count": 13,
   "id": "d7446238",
   "metadata": {
    "scrolled": true
   },
   "outputs": [],
   "source": [
    "# the Airline column will be replaced by the average price per airline.\n",
    "df.drop(\"Airline\", axis = 1, inplace = True)"
   ]
  },
  {
   "cell_type": "code",
   "execution_count": 14,
   "id": "a9f0ecf7",
   "metadata": {},
   "outputs": [
    {
     "data": {
      "text/plain": [
       "PAR    23054\n",
       "NYC     9411\n",
       "RUH     9140\n",
       "SVO     8492\n",
       "Name: Source, dtype: int64"
      ]
     },
     "execution_count": 14,
     "metadata": {},
     "output_type": "execute_result"
    }
   ],
   "source": [
    "# source\n",
    "df[\"Source\"].value_counts()"
   ]
  },
  {
   "cell_type": "code",
   "execution_count": 15,
   "id": "b2eff4ae",
   "metadata": {},
   "outputs": [
    {
     "data": {
      "text/plain": [
       "<seaborn.axisgrid.FacetGrid at 0x7ff1b97ea990>"
      ]
     },
     "execution_count": 15,
     "metadata": {},
     "output_type": "execute_result"
    },
    {
     "data": {
      "image/png": "[encoded data removed]",
      "text/plain": [
       "<Figure size 1296x432 with 1 Axes>"
      ]
     },
     "metadata": {},
     "output_type": "display_data"
    }
   ],
   "source": [
    "# source vs price\n",
    "sns.catplot(y = \"Price\", x= \"Source\", data = df.sort_values(\"Price\", ascending = False), kind=\"boxen\", height = 6, aspect = 3)"
   ]
  },
  {
   "cell_type": "code",
   "execution_count": 16,
   "id": "39508f3a",
   "metadata": {},
   "outputs": [
    {
     "data": {
      "text/html": [
       "<div>\n",
       "<style scoped>\n",
       "    .dataframe tbody tr th:only-of-type {\n",
       "        vertical-align: middle;\n",
       "    }\n",
       "\n",
       "    .dataframe tbody tr th {\n",
       "        vertical-align: top;\n",
       "    }\n",
       "\n",
       "    .dataframe thead th {\n",
       "        text-align: right;\n",
       "    }\n",
       "</style>\n",
       "<table border=\"1\" class=\"dataframe\">\n",
       "  <thead>\n",
       "    <tr style=\"text-align: right;\">\n",
       "      <th></th>\n",
       "      <th>Source_PAR</th>\n",
       "      <th>Source_RUH</th>\n",
       "      <th>Source_SVO</th>\n",
       "    </tr>\n",
       "  </thead>\n",
       "  <tbody>\n",
       "    <tr>\n",
       "      <th>0</th>\n",
       "      <td>1</td>\n",
       "      <td>0</td>\n",
       "      <td>0</td>\n",
       "    </tr>\n",
       "    <tr>\n",
       "      <th>1</th>\n",
       "      <td>1</td>\n",
       "      <td>0</td>\n",
       "      <td>0</td>\n",
       "    </tr>\n",
       "    <tr>\n",
       "      <th>2</th>\n",
       "      <td>1</td>\n",
       "      <td>0</td>\n",
       "      <td>0</td>\n",
       "    </tr>\n",
       "    <tr>\n",
       "      <th>3</th>\n",
       "      <td>1</td>\n",
       "      <td>0</td>\n",
       "      <td>0</td>\n",
       "    </tr>\n",
       "    <tr>\n",
       "      <th>4</th>\n",
       "      <td>1</td>\n",
       "      <td>0</td>\n",
       "      <td>0</td>\n",
       "    </tr>\n",
       "  </tbody>\n",
       "</table>\n",
       "</div>"
      ],
      "text/plain": [
       "   Source_PAR  Source_RUH  Source_SVO\n",
       "0           1           0           0\n",
       "1           1           0           0\n",
       "2           1           0           0\n",
       "3           1           0           0\n",
       "4           1           0           0"
      ]
     },
     "execution_count": 16,
     "metadata": {},
     "output_type": "execute_result"
    }
   ],
   "source": [
    "# performing OneHotEncoding on Source since it's nominal categorical data  \n",
    "source =df[[\"Source\"]]\n",
    "source =pd.get_dummies(source, drop_first=True)\n",
    "source.head()"
   ]
  },
  {
   "cell_type": "code",
   "execution_count": 17,
   "id": "cf024fa4",
   "metadata": {},
   "outputs": [
    {
     "data": {
      "text/plain": [
       "NYC    24926\n",
       "RUH    11046\n",
       "PAR     8042\n",
       "SVO     6083\n",
       "Name: Destination, dtype: int64"
      ]
     },
     "execution_count": 17,
     "metadata": {},
     "output_type": "execute_result"
    }
   ],
   "source": [
    "# destination\n",
    "df[\"Destination\"].value_counts()"
   ]
  },
  {
   "cell_type": "code",
   "execution_count": 18,
   "id": "254be453",
   "metadata": {},
   "outputs": [
    {
     "data": {
      "text/plain": [
       "<seaborn.axisgrid.FacetGrid at 0x7ff1b97eae90>"
      ]
     },
     "execution_count": 18,
     "metadata": {},
     "output_type": "execute_result"
    },
    {
     "data": {
      "image/png": "[encoded data removed]",
      "text/plain": [
       "<Figure size 1296x432 with 1 Axes>"
      ]
     },
     "metadata": {},
     "output_type": "display_data"
    }
   ],
   "source": [
    "# destination vs price\n",
    "sns.catplot(y = \"Price\", x= \"Destination\", data = df.sort_values(\"Price\", ascending = False), kind=\"boxen\", height = 6, aspect = 3)"
   ]
  },
  {
   "cell_type": "code",
   "execution_count": 19,
   "id": "7a205f46",
   "metadata": {},
   "outputs": [
    {
     "data": {
      "text/html": [
       "<div>\n",
       "<style scoped>\n",
       "    .dataframe tbody tr th:only-of-type {\n",
       "        vertical-align: middle;\n",
       "    }\n",
       "\n",
       "    .dataframe tbody tr th {\n",
       "        vertical-align: top;\n",
       "    }\n",
       "\n",
       "    .dataframe thead th {\n",
       "        text-align: right;\n",
       "    }\n",
       "</style>\n",
       "<table border=\"1\" class=\"dataframe\">\n",
       "  <thead>\n",
       "    <tr style=\"text-align: right;\">\n",
       "      <th></th>\n",
       "      <th>Destination_PAR</th>\n",
       "      <th>Destination_RUH</th>\n",
       "      <th>Destination_SVO</th>\n",
       "    </tr>\n",
       "  </thead>\n",
       "  <tbody>\n",
       "    <tr>\n",
       "      <th>0</th>\n",
       "      <td>0</td>\n",
       "      <td>0</td>\n",
       "      <td>0</td>\n",
       "    </tr>\n",
       "    <tr>\n",
       "      <th>1</th>\n",
       "      <td>0</td>\n",
       "      <td>0</td>\n",
       "      <td>0</td>\n",
       "    </tr>\n",
       "    <tr>\n",
       "      <th>2</th>\n",
       "      <td>0</td>\n",
       "      <td>0</td>\n",
       "      <td>0</td>\n",
       "    </tr>\n",
       "    <tr>\n",
       "      <th>3</th>\n",
       "      <td>0</td>\n",
       "      <td>0</td>\n",
       "      <td>0</td>\n",
       "    </tr>\n",
       "    <tr>\n",
       "      <th>4</th>\n",
       "      <td>0</td>\n",
       "      <td>0</td>\n",
       "      <td>0</td>\n",
       "    </tr>\n",
       "  </tbody>\n",
       "</table>\n",
       "</div>"
      ],
      "text/plain": [
       "   Destination_PAR  Destination_RUH  Destination_SVO\n",
       "0                0                0                0\n",
       "1                0                0                0\n",
       "2                0                0                0\n",
       "3                0                0                0\n",
       "4                0                0                0"
      ]
     },
     "execution_count": 19,
     "metadata": {},
     "output_type": "execute_result"
    }
   ],
   "source": [
    "# performing OneHotEncoding on Destination since it's nominal categorical data\n",
    "destination = df[[\"Destination\"]]\n",
    "destination = pd.get_dummies(destination, drop_first=True)\n",
    "destination.head()"
   ]
  },
  {
   "cell_type": "code",
   "execution_count": 20,
   "id": "c851770a",
   "metadata": {},
   "outputs": [
    {
     "name": "stdout",
     "output_type": "stream",
     "text": [
      "1 stop      27466\n",
      "2 stops     18665\n",
      "3 stops      1988\n",
      "nonstop      1978\n",
      "Name: Total stops, dtype: int64\n"
     ]
    },
    {
     "data": {
      "text/plain": [
       "array(['1 stop ', '2 stops ', 'nonstop ', '3 stops '], dtype=object)"
      ]
     },
     "execution_count": 20,
     "metadata": {},
     "output_type": "execute_result"
    }
   ],
   "source": [
    "# total stops\n",
    "print(df[\"Total stops\"].value_counts())\n",
    "df[\"Total stops\"].unique()"
   ]
  },
  {
   "cell_type": "code",
   "execution_count": 21,
   "id": "935598c0",
   "metadata": {},
   "outputs": [],
   "source": [
    "# performing LabelEncoder on Total stops since it's ordinal categorical data\n",
    "df.replace({\"nonstop \":0, \"1 stop \": 1, \"2 stops \": 2, \"3 stops \":3}, inplace=True)"
   ]
  },
  {
   "cell_type": "code",
   "execution_count": 22,
   "id": "1cf55917",
   "metadata": {},
   "outputs": [],
   "source": [
    "final_df = pd.concat([df,source,destination], axis=1).reset_index(drop = True)"
   ]
  },
  {
   "cell_type": "code",
   "execution_count": 23,
   "id": "ac035b57",
   "metadata": {},
   "outputs": [
    {
     "data": {
      "text/html": [
       "<div>\n",
       "<style scoped>\n",
       "    .dataframe tbody tr th:only-of-type {\n",
       "        vertical-align: middle;\n",
       "    }\n",
       "\n",
       "    .dataframe tbody tr th {\n",
       "        vertical-align: top;\n",
       "    }\n",
       "\n",
       "    .dataframe thead th {\n",
       "        text-align: right;\n",
       "    }\n",
       "</style>\n",
       "<table border=\"1\" class=\"dataframe\">\n",
       "  <thead>\n",
       "    <tr style=\"text-align: right;\">\n",
       "      <th></th>\n",
       "      <th>Source</th>\n",
       "      <th>Destination</th>\n",
       "      <th>Duration</th>\n",
       "      <th>Total stops</th>\n",
       "      <th>Price</th>\n",
       "      <th>Date</th>\n",
       "      <th>Average Price</th>\n",
       "      <th>Source_PAR</th>\n",
       "      <th>Source_RUH</th>\n",
       "      <th>Source_SVO</th>\n",
       "      <th>Destination_PAR</th>\n",
       "      <th>Destination_RUH</th>\n",
       "      <th>Destination_SVO</th>\n",
       "    </tr>\n",
       "  </thead>\n",
       "  <tbody>\n",
       "    <tr>\n",
       "      <th>0</th>\n",
       "      <td>PAR</td>\n",
       "      <td>NYC</td>\n",
       "      <td>770</td>\n",
       "      <td>1</td>\n",
       "      <td>379.47</td>\n",
       "      <td>2022-02-01</td>\n",
       "      <td>441.343760</td>\n",
       "      <td>1</td>\n",
       "      <td>0</td>\n",
       "      <td>0</td>\n",
       "      <td>0</td>\n",
       "      <td>0</td>\n",
       "      <td>0</td>\n",
       "    </tr>\n",
       "    <tr>\n",
       "      <th>1</th>\n",
       "      <td>PAR</td>\n",
       "      <td>NYC</td>\n",
       "      <td>770</td>\n",
       "      <td>1</td>\n",
       "      <td>379.47</td>\n",
       "      <td>2022-02-01</td>\n",
       "      <td>441.343760</td>\n",
       "      <td>1</td>\n",
       "      <td>0</td>\n",
       "      <td>0</td>\n",
       "      <td>0</td>\n",
       "      <td>0</td>\n",
       "      <td>0</td>\n",
       "    </tr>\n",
       "    <tr>\n",
       "      <th>2</th>\n",
       "      <td>PAR</td>\n",
       "      <td>NYC</td>\n",
       "      <td>810</td>\n",
       "      <td>1</td>\n",
       "      <td>379.47</td>\n",
       "      <td>2022-02-01</td>\n",
       "      <td>441.343760</td>\n",
       "      <td>1</td>\n",
       "      <td>0</td>\n",
       "      <td>0</td>\n",
       "      <td>0</td>\n",
       "      <td>0</td>\n",
       "      <td>0</td>\n",
       "    </tr>\n",
       "    <tr>\n",
       "      <th>3</th>\n",
       "      <td>PAR</td>\n",
       "      <td>NYC</td>\n",
       "      <td>890</td>\n",
       "      <td>1</td>\n",
       "      <td>379.47</td>\n",
       "      <td>2022-02-01</td>\n",
       "      <td>441.343760</td>\n",
       "      <td>1</td>\n",
       "      <td>0</td>\n",
       "      <td>0</td>\n",
       "      <td>0</td>\n",
       "      <td>0</td>\n",
       "      <td>0</td>\n",
       "    </tr>\n",
       "    <tr>\n",
       "      <th>4</th>\n",
       "      <td>PAR</td>\n",
       "      <td>NYC</td>\n",
       "      <td>1030</td>\n",
       "      <td>1</td>\n",
       "      <td>379.47</td>\n",
       "      <td>2022-02-01</td>\n",
       "      <td>441.343760</td>\n",
       "      <td>1</td>\n",
       "      <td>0</td>\n",
       "      <td>0</td>\n",
       "      <td>0</td>\n",
       "      <td>0</td>\n",
       "      <td>0</td>\n",
       "    </tr>\n",
       "    <tr>\n",
       "      <th>...</th>\n",
       "      <td>...</td>\n",
       "      <td>...</td>\n",
       "      <td>...</td>\n",
       "      <td>...</td>\n",
       "      <td>...</td>\n",
       "      <td>...</td>\n",
       "      <td>...</td>\n",
       "      <td>...</td>\n",
       "      <td>...</td>\n",
       "      <td>...</td>\n",
       "      <td>...</td>\n",
       "      <td>...</td>\n",
       "      <td>...</td>\n",
       "    </tr>\n",
       "    <tr>\n",
       "      <th>50092</th>\n",
       "      <td>NYC</td>\n",
       "      <td>RUH</td>\n",
       "      <td>1300</td>\n",
       "      <td>2</td>\n",
       "      <td>930.40</td>\n",
       "      <td>2022-04-13</td>\n",
       "      <td>838.732500</td>\n",
       "      <td>0</td>\n",
       "      <td>0</td>\n",
       "      <td>0</td>\n",
       "      <td>0</td>\n",
       "      <td>1</td>\n",
       "      <td>0</td>\n",
       "    </tr>\n",
       "    <tr>\n",
       "      <th>50093</th>\n",
       "      <td>NYC</td>\n",
       "      <td>RUH</td>\n",
       "      <td>1420</td>\n",
       "      <td>2</td>\n",
       "      <td>1018.40</td>\n",
       "      <td>2022-04-13</td>\n",
       "      <td>1972.813714</td>\n",
       "      <td>0</td>\n",
       "      <td>0</td>\n",
       "      <td>0</td>\n",
       "      <td>0</td>\n",
       "      <td>1</td>\n",
       "      <td>0</td>\n",
       "    </tr>\n",
       "    <tr>\n",
       "      <th>50094</th>\n",
       "      <td>NYC</td>\n",
       "      <td>RUH</td>\n",
       "      <td>1415</td>\n",
       "      <td>2</td>\n",
       "      <td>1049.87</td>\n",
       "      <td>2022-04-13</td>\n",
       "      <td>1133.548015</td>\n",
       "      <td>0</td>\n",
       "      <td>0</td>\n",
       "      <td>0</td>\n",
       "      <td>0</td>\n",
       "      <td>1</td>\n",
       "      <td>0</td>\n",
       "    </tr>\n",
       "    <tr>\n",
       "      <th>50095</th>\n",
       "      <td>NYC</td>\n",
       "      <td>RUH</td>\n",
       "      <td>1100</td>\n",
       "      <td>2</td>\n",
       "      <td>1053.60</td>\n",
       "      <td>2022-04-13</td>\n",
       "      <td>1023.900221</td>\n",
       "      <td>0</td>\n",
       "      <td>0</td>\n",
       "      <td>0</td>\n",
       "      <td>0</td>\n",
       "      <td>1</td>\n",
       "      <td>0</td>\n",
       "    </tr>\n",
       "    <tr>\n",
       "      <th>50096</th>\n",
       "      <td>NYC</td>\n",
       "      <td>RUH</td>\n",
       "      <td>1115</td>\n",
       "      <td>3</td>\n",
       "      <td>1139.73</td>\n",
       "      <td>2022-04-13</td>\n",
       "      <td>1023.714222</td>\n",
       "      <td>0</td>\n",
       "      <td>0</td>\n",
       "      <td>0</td>\n",
       "      <td>0</td>\n",
       "      <td>1</td>\n",
       "      <td>0</td>\n",
       "    </tr>\n",
       "  </tbody>\n",
       "</table>\n",
       "<p>50097 rows × 13 columns</p>\n",
       "</div>"
      ],
      "text/plain": [
       "      Source Destination  Duration  Total stops    Price       Date  \\\n",
       "0        PAR         NYC       770            1   379.47 2022-02-01   \n",
       "1        PAR         NYC       770            1   379.47 2022-02-01   \n",
       "2        PAR         NYC       810            1   379.47 2022-02-01   \n",
       "3        PAR         NYC       890            1   379.47 2022-02-01   \n",
       "4        PAR         NYC      1030            1   379.47 2022-02-01   \n",
       "...      ...         ...       ...          ...      ...        ...   \n",
       "50092    NYC         RUH      1300            2   930.40 2022-04-13   \n",
       "50093    NYC         RUH      1420            2  1018.40 2022-04-13   \n",
       "50094    NYC         RUH      1415            2  1049.87 2022-04-13   \n",
       "50095    NYC         RUH      1100            2  1053.60 2022-04-13   \n",
       "50096    NYC         RUH      1115            3  1139.73 2022-04-13   \n",
       "\n",
       "       Average Price  Source_PAR  Source_RUH  Source_SVO  Destination_PAR  \\\n",
       "0         441.343760           1           0           0                0   \n",
       "1         441.343760           1           0           0                0   \n",
       "2         441.343760           1           0           0                0   \n",
       "3         441.343760           1           0           0                0   \n",
       "4         441.343760           1           0           0                0   \n",
       "...              ...         ...         ...         ...              ...   \n",
       "50092     838.732500           0           0           0                0   \n",
       "50093    1972.813714           0           0           0                0   \n",
       "50094    1133.548015           0           0           0                0   \n",
       "50095    1023.900221           0           0           0                0   \n",
       "50096    1023.714222           0           0           0                0   \n",
       "\n",
       "       Destination_RUH  Destination_SVO  \n",
       "0                    0                0  \n",
       "1                    0                0  \n",
       "2                    0                0  \n",
       "3                    0                0  \n",
       "4                    0                0  \n",
       "...                ...              ...  \n",
       "50092                1                0  \n",
       "50093                1                0  \n",
       "50094                1                0  \n",
       "50095                1                0  \n",
       "50096                1                0  \n",
       "\n",
       "[50097 rows x 13 columns]"
      ]
     },
     "execution_count": 23,
     "metadata": {},
     "output_type": "execute_result"
    }
   ],
   "source": [
    "final_df"
   ]
  },
  {
   "cell_type": "code",
   "execution_count": 24,
   "id": "1c2b841f",
   "metadata": {},
   "outputs": [],
   "source": [
    "# drop date since it'll not be used as a feature\n",
    "final_df.drop([\"Source\",\"Destination\",\"Date\"], axis=1, inplace=True)"
   ]
  },
  {
   "cell_type": "code",
   "execution_count": 25,
   "id": "4050cb8b",
   "metadata": {},
   "outputs": [
    {
     "data": {
      "text/html": [
       "<div>\n",
       "<style scoped>\n",
       "    .dataframe tbody tr th:only-of-type {\n",
       "        vertical-align: middle;\n",
       "    }\n",
       "\n",
       "    .dataframe tbody tr th {\n",
       "        vertical-align: top;\n",
       "    }\n",
       "\n",
       "    .dataframe thead th {\n",
       "        text-align: right;\n",
       "    }\n",
       "</style>\n",
       "<table border=\"1\" class=\"dataframe\">\n",
       "  <thead>\n",
       "    <tr style=\"text-align: right;\">\n",
       "      <th></th>\n",
       "      <th>Duration</th>\n",
       "      <th>Total stops</th>\n",
       "      <th>Price</th>\n",
       "      <th>Average Price</th>\n",
       "      <th>Source_PAR</th>\n",
       "      <th>Source_RUH</th>\n",
       "      <th>Source_SVO</th>\n",
       "      <th>Destination_PAR</th>\n",
       "      <th>Destination_RUH</th>\n",
       "      <th>Destination_SVO</th>\n",
       "    </tr>\n",
       "  </thead>\n",
       "  <tbody>\n",
       "    <tr>\n",
       "      <th>0</th>\n",
       "      <td>770</td>\n",
       "      <td>1</td>\n",
       "      <td>379.47</td>\n",
       "      <td>441.343760</td>\n",
       "      <td>1</td>\n",
       "      <td>0</td>\n",
       "      <td>0</td>\n",
       "      <td>0</td>\n",
       "      <td>0</td>\n",
       "      <td>0</td>\n",
       "    </tr>\n",
       "    <tr>\n",
       "      <th>1</th>\n",
       "      <td>770</td>\n",
       "      <td>1</td>\n",
       "      <td>379.47</td>\n",
       "      <td>441.343760</td>\n",
       "      <td>1</td>\n",
       "      <td>0</td>\n",
       "      <td>0</td>\n",
       "      <td>0</td>\n",
       "      <td>0</td>\n",
       "      <td>0</td>\n",
       "    </tr>\n",
       "    <tr>\n",
       "      <th>2</th>\n",
       "      <td>810</td>\n",
       "      <td>1</td>\n",
       "      <td>379.47</td>\n",
       "      <td>441.343760</td>\n",
       "      <td>1</td>\n",
       "      <td>0</td>\n",
       "      <td>0</td>\n",
       "      <td>0</td>\n",
       "      <td>0</td>\n",
       "      <td>0</td>\n",
       "    </tr>\n",
       "    <tr>\n",
       "      <th>3</th>\n",
       "      <td>890</td>\n",
       "      <td>1</td>\n",
       "      <td>379.47</td>\n",
       "      <td>441.343760</td>\n",
       "      <td>1</td>\n",
       "      <td>0</td>\n",
       "      <td>0</td>\n",
       "      <td>0</td>\n",
       "      <td>0</td>\n",
       "      <td>0</td>\n",
       "    </tr>\n",
       "    <tr>\n",
       "      <th>4</th>\n",
       "      <td>1030</td>\n",
       "      <td>1</td>\n",
       "      <td>379.47</td>\n",
       "      <td>441.343760</td>\n",
       "      <td>1</td>\n",
       "      <td>0</td>\n",
       "      <td>0</td>\n",
       "      <td>0</td>\n",
       "      <td>0</td>\n",
       "      <td>0</td>\n",
       "    </tr>\n",
       "    <tr>\n",
       "      <th>...</th>\n",
       "      <td>...</td>\n",
       "      <td>...</td>\n",
       "      <td>...</td>\n",
       "      <td>...</td>\n",
       "      <td>...</td>\n",
       "      <td>...</td>\n",
       "      <td>...</td>\n",
       "      <td>...</td>\n",
       "      <td>...</td>\n",
       "      <td>...</td>\n",
       "    </tr>\n",
       "    <tr>\n",
       "      <th>50092</th>\n",
       "      <td>1300</td>\n",
       "      <td>2</td>\n",
       "      <td>930.40</td>\n",
       "      <td>838.732500</td>\n",
       "      <td>0</td>\n",
       "      <td>0</td>\n",
       "      <td>0</td>\n",
       "      <td>0</td>\n",
       "      <td>1</td>\n",
       "      <td>0</td>\n",
       "    </tr>\n",
       "    <tr>\n",
       "      <th>50093</th>\n",
       "      <td>1420</td>\n",
       "      <td>2</td>\n",
       "      <td>1018.40</td>\n",
       "      <td>1972.813714</td>\n",
       "      <td>0</td>\n",
       "      <td>0</td>\n",
       "      <td>0</td>\n",
       "      <td>0</td>\n",
       "      <td>1</td>\n",
       "      <td>0</td>\n",
       "    </tr>\n",
       "    <tr>\n",
       "      <th>50094</th>\n",
       "      <td>1415</td>\n",
       "      <td>2</td>\n",
       "      <td>1049.87</td>\n",
       "      <td>1133.548015</td>\n",
       "      <td>0</td>\n",
       "      <td>0</td>\n",
       "      <td>0</td>\n",
       "      <td>0</td>\n",
       "      <td>1</td>\n",
       "      <td>0</td>\n",
       "    </tr>\n",
       "    <tr>\n",
       "      <th>50095</th>\n",
       "      <td>1100</td>\n",
       "      <td>2</td>\n",
       "      <td>1053.60</td>\n",
       "      <td>1023.900221</td>\n",
       "      <td>0</td>\n",
       "      <td>0</td>\n",
       "      <td>0</td>\n",
       "      <td>0</td>\n",
       "      <td>1</td>\n",
       "      <td>0</td>\n",
       "    </tr>\n",
       "    <tr>\n",
       "      <th>50096</th>\n",
       "      <td>1115</td>\n",
       "      <td>3</td>\n",
       "      <td>1139.73</td>\n",
       "      <td>1023.714222</td>\n",
       "      <td>0</td>\n",
       "      <td>0</td>\n",
       "      <td>0</td>\n",
       "      <td>0</td>\n",
       "      <td>1</td>\n",
       "      <td>0</td>\n",
       "    </tr>\n",
       "  </tbody>\n",
       "</table>\n",
       "<p>50097 rows × 10 columns</p>\n",
       "</div>"
      ],
      "text/plain": [
       "       Duration  Total stops    Price  Average Price  Source_PAR  Source_RUH  \\\n",
       "0           770            1   379.47     441.343760           1           0   \n",
       "1           770            1   379.47     441.343760           1           0   \n",
       "2           810            1   379.47     441.343760           1           0   \n",
       "3           890            1   379.47     441.343760           1           0   \n",
       "4          1030            1   379.47     441.343760           1           0   \n",
       "...         ...          ...      ...            ...         ...         ...   \n",
       "50092      1300            2   930.40     838.732500           0           0   \n",
       "50093      1420            2  1018.40    1972.813714           0           0   \n",
       "50094      1415            2  1049.87    1133.548015           0           0   \n",
       "50095      1100            2  1053.60    1023.900221           0           0   \n",
       "50096      1115            3  1139.73    1023.714222           0           0   \n",
       "\n",
       "       Source_SVO  Destination_PAR  Destination_RUH  Destination_SVO  \n",
       "0               0                0                0                0  \n",
       "1               0                0                0                0  \n",
       "2               0                0                0                0  \n",
       "3               0                0                0                0  \n",
       "4               0                0                0                0  \n",
       "...           ...              ...              ...              ...  \n",
       "50092           0                0                1                0  \n",
       "50093           0                0                1                0  \n",
       "50094           0                0                1                0  \n",
       "50095           0                0                1                0  \n",
       "50096           0                0                1                0  \n",
       "\n",
       "[50097 rows x 10 columns]"
      ]
     },
     "execution_count": 25,
     "metadata": {},
     "output_type": "execute_result"
    }
   ],
   "source": [
    "final_df"
   ]
  },
  {
   "cell_type": "code",
   "execution_count": 26,
   "id": "65dfc2eb",
   "metadata": {},
   "outputs": [
    {
     "data": {
      "text/plain": [
       "(50097, 10)"
      ]
     },
     "execution_count": 26,
     "metadata": {},
     "output_type": "execute_result"
    }
   ],
   "source": [
    "final_df.shape"
   ]
  },
  {
   "cell_type": "code",
   "execution_count": 27,
   "id": "4db701a7",
   "metadata": {},
   "outputs": [
    {
     "data": {
      "text/plain": [
       "Duration           0\n",
       "Total stops        0\n",
       "Price              0\n",
       "Average Price      0\n",
       "Source_PAR         0\n",
       "Source_RUH         0\n",
       "Source_SVO         0\n",
       "Destination_PAR    0\n",
       "Destination_RUH    0\n",
       "Destination_SVO    0\n",
       "dtype: int64"
      ]
     },
     "execution_count": 27,
     "metadata": {},
     "output_type": "execute_result"
    }
   ],
   "source": [
    "final_df.isnull().sum()"
   ]
  },
  {
   "cell_type": "markdown",
   "id": "b244184c",
   "metadata": {},
   "source": [
    "## Features: <a class=\"anchor\" id=\"features\"></a>"
   ]
  },
  {
   "cell_type": "markdown",
   "id": "f39fd1cb",
   "metadata": {},
   "source": [
    "#### After constructing the final dataframe with all numerical values, now we can analyze the features that will be used for the regressions models"
   ]
  },
  {
   "cell_type": "code",
   "execution_count": 28,
   "id": "b6ad32ed",
   "metadata": {},
   "outputs": [
    {
     "data": {
      "text/plain": [
       "Index(['Duration', 'Total stops', 'Price', 'Average Price', 'Source_PAR',\n",
       "       'Source_RUH', 'Source_SVO', 'Destination_PAR', 'Destination_RUH',\n",
       "       'Destination_SVO'],\n",
       "      dtype='object')"
      ]
     },
     "execution_count": 28,
     "metadata": {},
     "output_type": "execute_result"
    }
   ],
   "source": [
    "final_df.columns"
   ]
  },
  {
   "cell_type": "code",
   "execution_count": 29,
   "id": "1d33c3c3",
   "metadata": {},
   "outputs": [],
   "source": [
    "X = final_df[['Duration', 'Total stops', 'Average Price', 'Source_PAR',\n",
    "       'Source_RUH', 'Source_SVO', 'Destination_PAR', 'Destination_RUH',\n",
    "       'Destination_SVO']]\n",
    "\n",
    "y = final_df[\"Price\"]"
   ]
  },
  {
   "cell_type": "code",
   "execution_count": 30,
   "id": "720cfefd",
   "metadata": {},
   "outputs": [
    {
     "data": {
      "image/png": "[encoded data removed]",
      "text/plain": [
       "<Figure size 1296x1296 with 2 Axes>"
      ]
     },
     "metadata": {},
     "output_type": "display_data"
    }
   ],
   "source": [
    "plt.figure(figsize = (18,18))\n",
    "\n",
    "sns.heatmap(final_df.corr(),annot= True, cmap = \"coolwarm\")\n",
    "\n",
    "plt.show()"
   ]
  },
  {
   "cell_type": "code",
   "execution_count": 31,
   "id": "ad192d2d",
   "metadata": {},
   "outputs": [
    {
     "data": {
      "text/plain": [
       "array([0.03945716, 0.01524215, 0.75053115, 0.08639322, 0.0095365 ,\n",
       "       0.01457306, 0.01948406, 0.05107754, 0.01370516])"
      ]
     },
     "execution_count": 31,
     "metadata": {},
     "output_type": "execute_result"
    }
   ],
   "source": [
    "# getting feature importance to the target variable \"Price\".\n",
    "selection =ExtraTreesRegressor()\n",
    "selection.fit(X,y)\n",
    "selection.feature_importances_"
   ]
  },
  {
   "cell_type": "code",
   "execution_count": 32,
   "id": "da98cd80",
   "metadata": {
    "scrolled": false
   },
   "outputs": [
    {
     "data": {
      "image/png": "[encoded data removed]",
      "text/plain": [
       "<Figure size 864x576 with 1 Axes>"
      ]
     },
     "metadata": {},
     "output_type": "display_data"
    }
   ],
   "source": [
    "# plotting graph of important features\n",
    "plt.figure(figsize = (12,8))\n",
    "feat_importances = pd.Series(selection.feature_importances_,index = X.columns)\n",
    "feat_importances.nlargest(20).plot(kind=\"barh\")\n",
    "plt.show()"
   ]
  },
  {
   "cell_type": "markdown",
   "id": "ff0106f5",
   "metadata": {},
   "source": [
    "## Modeling: <a class=\"anchor\" id=\"modeling\"></a>"
   ]
  },
  {
   "cell_type": "markdown",
   "id": "e742a8d4",
   "metadata": {},
   "source": [
    "### Splitting the data"
   ]
  },
  {
   "cell_type": "code",
   "execution_count": 33,
   "id": "bb03f631",
   "metadata": {},
   "outputs": [],
   "source": [
    "# 60% Train - 20% Val - 20% Test\n",
    "\n",
    "X_train_or, X_test, y_train_or, y_test = train_test_split(X, y, test_size=0.2)\n",
    "X_train, X_val, y_train, y_val = train_test_split(X_train_or, y_train_or, test_size=0.25)"
   ]
  },
  {
   "cell_type": "markdown",
   "id": "156f3ea4",
   "metadata": {},
   "source": [
    "### Defining a function to get metrics for val set"
   ]
  },
  {
   "cell_type": "code",
   "execution_count": 34,
   "id": "441256e0",
   "metadata": {},
   "outputs": [],
   "source": [
    "def get_metrics(model):\n",
    "    print(f'Train score {model.score(X_train, y_train)}')\n",
    "    print(f'Val score {model.score(X_val, y_val)}')\n",
    "    print(\"MAE:\" , metrics.mean_absolute_error(y_val,model.predict(X_val)))\n",
    "    print(\"MSE:\" , metrics.mean_squared_error(y_val,model.predict(X_val)))\n",
    "    print(\"RMSE:\" , np.sqrt(metrics.mean_squared_error(y_val,model.predict(X_val))))"
   ]
  },
  {
   "cell_type": "markdown",
   "id": "0ae28b62",
   "metadata": {},
   "source": [
    "### Baseline Linear Regression"
   ]
  },
  {
   "cell_type": "code",
   "execution_count": 35,
   "id": "61e08ea1",
   "metadata": {},
   "outputs": [
    {
     "name": "stdout",
     "output_type": "stream",
     "text": [
      "Train score 0.8042075862012158\n",
      "Val score 0.799091747676185\n",
      "MAE: 223.54163691510288\n",
      "MSE: 146405.03815700335\n",
      "RMSE: 382.6291130546699\n"
     ]
    }
   ],
   "source": [
    "lr = LinearRegression()\n",
    "lr.fit(X_train, y_train)\n",
    "score = lr.score(X_val, y_val)\n",
    "get_metrics(lr)"
   ]
  },
  {
   "cell_type": "markdown",
   "id": "796b82ff",
   "metadata": {},
   "source": [
    "### Polynomial "
   ]
  },
  {
   "cell_type": "code",
   "execution_count": 36,
   "id": "41a9f354",
   "metadata": {},
   "outputs": [
    {
     "name": "stdout",
     "output_type": "stream",
     "text": [
      "--------------------\n",
      "Degree 1\n",
      "Train score 0.8042075862012158\n",
      "Val score 0.799091747676185\n",
      "MAE: 223.54163691511357\n",
      "MSE: 146405.03815700338\n",
      "RMSE: 382.6291130546699\n",
      "--------------------\n",
      "Degree 2\n",
      "Train score 0.8577386713465396\n",
      "Val score 0.8531428258957733\n",
      "MAE: 177.1799418362886\n",
      "MSE: 107017.1579796794\n",
      "RMSE: 327.13477036181797\n",
      "--------------------\n",
      "Degree 3\n",
      "Train score 0.8770463980295427\n",
      "Val score 0.8713160624597465\n",
      "MAE: 157.8099398786702\n",
      "MSE: 93774.03151866965\n",
      "RMSE: 306.22545863900615\n",
      "--------------------\n",
      "Degree 4\n",
      "Train score 0.8824208957179241\n",
      "Val score 0.87265418477357\n",
      "MAE: 151.2948946355236\n",
      "MSE: 92798.92051079363\n",
      "RMSE: 304.62915243094125\n",
      "--------------------\n",
      "Degree 5\n",
      "Train score 0.8880616051476802\n",
      "Val score 0.8674999117398803\n",
      "MAE: 149.52430861840355\n",
      "MSE: 96554.92122973234\n",
      "RMSE: 310.73287761312343\n"
     ]
    }
   ],
   "source": [
    "for degree in [1,2,3,4,5]:\n",
    "    poly = make_pipeline(PolynomialFeatures(degree), LinearRegression())\n",
    "    poly.fit(X_train, y_train)\n",
    "    print(\"-\"*20)\n",
    "    print(\"Degree\", degree)\n",
    "    get_metrics(poly)"
   ]
  },
  {
   "cell_type": "markdown",
   "id": "0ca27f6e",
   "metadata": {},
   "source": [
    "### Lasso"
   ]
  },
  {
   "cell_type": "code",
   "execution_count": 37,
   "id": "dffff082",
   "metadata": {},
   "outputs": [
    {
     "name": "stdout",
     "output_type": "stream",
     "text": [
      "Train score 0.8040152793427423\n",
      "Val score 0.7987507794705604\n",
      "MAE: 222.16720773144954\n",
      "MSE: 146653.50711025644\n",
      "RMSE: 382.95366183163264\n"
     ]
    }
   ],
   "source": [
    "lasso_model = Lasso()\n",
    "lasso_model.fit(X_train, y_train)\n",
    "get_metrics(lasso_model)"
   ]
  },
  {
   "cell_type": "markdown",
   "id": "eb6de57d",
   "metadata": {},
   "source": [
    "### Ridge"
   ]
  },
  {
   "cell_type": "code",
   "execution_count": 38,
   "id": "04e98a59",
   "metadata": {},
   "outputs": [
    {
     "name": "stdout",
     "output_type": "stream",
     "text": [
      "Train score 0.8042075716390646\n",
      "Val score 0.7990906250589928\n",
      "MAE: 223.52834362175253\n",
      "MSE: 146405.85622600233\n",
      "RMSE: 382.6301820635721\n"
     ]
    }
   ],
   "source": [
    "ridge_model = Ridge()\n",
    "ridge_model.fit(X_train, y_train)\n",
    "get_metrics(ridge_model)"
   ]
  },
  {
   "cell_type": "markdown",
   "id": "9c33c050",
   "metadata": {},
   "source": [
    "### ElasticNet"
   ]
  },
  {
   "cell_type": "code",
   "execution_count": 39,
   "id": "9206bad8",
   "metadata": {
    "scrolled": true
   },
   "outputs": [
    {
     "name": "stdout",
     "output_type": "stream",
     "text": [
      "Train score 0.7903793999331932\n",
      "Val score 0.7841345931483472\n",
      "MAE: 224.07477501051082\n",
      "MSE: 157304.55449861614\n",
      "RMSE: 396.6163820351047\n"
     ]
    }
   ],
   "source": [
    "EN_model = ElasticNet(alpha=1)\n",
    "EN_model.fit(X_train, y_train)\n",
    "EN_model.score(X_val, y_val)\n",
    "get_metrics(EN_model)"
   ]
  },
  {
   "cell_type": "markdown",
   "id": "d4cd1ed9",
   "metadata": {},
   "source": [
    "### Random Forest"
   ]
  },
  {
   "cell_type": "code",
   "execution_count": 40,
   "id": "f37e3449",
   "metadata": {},
   "outputs": [
    {
     "name": "stdout",
     "output_type": "stream",
     "text": [
      "Train score 0.9629081092945282\n",
      "Val score 0.9438711040124448\n",
      "MAE: 62.48641145124633\n",
      "MSE: 40902.01902470289\n",
      "RMSE: 202.2424758172795\n"
     ]
    }
   ],
   "source": [
    "rf = RandomForestRegressor()\n",
    "rf.fit(X_train,y_train)\n",
    "get_metrics(rf)"
   ]
  },
  {
   "cell_type": "markdown",
   "id": "4212c44a",
   "metadata": {},
   "source": [
    "### Feature Scaling"
   ]
  },
  {
   "cell_type": "code",
   "execution_count": 41,
   "id": "a2d8a503",
   "metadata": {},
   "outputs": [],
   "source": [
    "scaler = StandardScaler()\n",
    "\n",
    "X_train_scaled = scaler.fit_transform(X_train.values)\n",
    "X_val_scaled = scaler.transform(X_val.values)\n",
    "X_test_scaled = scaler.transform(X_test.values)"
   ]
  },
  {
   "cell_type": "code",
   "execution_count": 42,
   "id": "e5e64211",
   "metadata": {},
   "outputs": [
    {
     "name": "stdout",
     "output_type": "stream",
     "text": [
      "LR\n",
      "Train score 0.8042075862012158\n",
      "Val score 0.7990917476761851\n",
      "MAE: 223.54163691510374\n",
      "MSE: 146405.03815700332\n",
      "RMSE: 382.62911305466986\n",
      "--------------------------------------------------\n",
      "Polynomial - Degree 1\n",
      "Train score -0.37890410229121807\n",
      "Val score -0.38037765123483114\n",
      "MAE: 782.3098033678265\n",
      "MSE: 1005903.1441594723\n",
      "RMSE: 1002.9472290003459\n",
      "--------------------------------------------------\n",
      "Polynomial - Degree 2\n",
      "Train score -6.61586993100154\n",
      "Val score -6.55759560765061\n",
      "MAE: 1791.813053502219\n",
      "MSE: 5507340.094372675\n",
      "RMSE: 2346.7722715194745\n",
      "--------------------------------------------------\n",
      "Polynomial - Degree 3\n",
      "Train score -6.983013766507188\n",
      "Val score -7.132851978264544\n",
      "MAE: 1948.3751148205017\n",
      "MSE: 5926538.558923796\n",
      "RMSE: 2434.4483068908644\n",
      "--------------------------------------------------\n",
      "Polynomial - Degree 4\n",
      "Train score -79.55275917975915\n",
      "Val score -79.17259571110154\n",
      "MAE: 5399.783631499363\n",
      "MSE: 58423045.337687604\n",
      "RMSE: 7643.496931227722\n",
      "--------------------------------------------------\n",
      "Polynomial - Degree 5\n",
      "Train score -1.2240083852433816\n",
      "Val score -1.2171080965548553\n",
      "MAE: 941.9898938286414\n",
      "MSE: 1615641.9247087254\n",
      "RMSE: 1271.079039520645\n",
      "--------------------------------------------------\n",
      "Lasso\n",
      "Train score 0.8041886223426101\n",
      "Val score 0.7990428886130295\n",
      "MAE: 223.13870139477172\n",
      "MSE: 146440.64253324407\n",
      "RMSE: 382.6756361897685\n",
      "--------------------------------------------------\n",
      "Ridge\n",
      "Train score 0.804207585342539\n",
      "Val score 0.7990916885634701\n",
      "MAE: 223.54450414043836\n",
      "MSE: 146405.08123337865\n",
      "RMSE: 382.6291693446523\n",
      "--------------------------------------------------\n",
      "ElasticNet\n",
      "Train score 0.7353500991815123\n",
      "Val score 0.7309969397020977\n",
      "MAE: 303.3717793514407\n",
      "MSE: 196026.80751902942\n",
      "RMSE: 442.74914739503384\n",
      "--------------------------------------------------\n",
      "Random Forest\n",
      "Train score -1.0666945374736958\n",
      "Val score -1.0599791462318429\n",
      "MAE: 877.7642023279906\n",
      "MSE: 1501139.5600645249\n",
      "RMSE: 1225.2100065150157\n"
     ]
    }
   ],
   "source": [
    "# function to get metrics for scaled features\n",
    "def scaled_metrics(model):\n",
    "    print(f'Train score {model.score(X_train_scaled, y_train)}')\n",
    "    print(f'Val score {model.score(X_val_scaled, y_val)}')\n",
    "    print(\"MAE:\" , metrics.mean_absolute_error(y_val,model.predict(X_val_scaled)))\n",
    "    print(\"MSE:\" , metrics.mean_squared_error(y_val,model.predict(X_val_scaled)))\n",
    "    print(\"RMSE:\" , np.sqrt(metrics.mean_squared_error(y_val,model.predict(X_val_scaled))))\n",
    "\n",
    "    \n",
    "## Baseline: Linear Regression\n",
    "\n",
    "lr = LinearRegression()\n",
    "lr.fit(X_train_scaled, y_train)\n",
    "score = lr.score(X_val_scaled, y_val)\n",
    "print(\"LR\")\n",
    "scaled_metrics(lr)\n",
    "print(\"-\"*50)\n",
    "\n",
    "## Polynomial\n",
    "\n",
    "for degree in [1,2,3,4,5]:\n",
    "    poly = make_pipeline(PolynomialFeatures(degree), LinearRegression())\n",
    "    poly.fit(X_train, y_train)\n",
    "    print(\"Polynomial - Degree\", degree)\n",
    "    scaled_metrics(poly)\n",
    "    print(\"-\"*50)\n",
    "\n",
    "## Lasso\n",
    "\n",
    "lasso_model = Lasso()\n",
    "lasso_model.fit(X_train_scaled, y_train)\n",
    "print(\"Lasso\")\n",
    "scaled_metrics(lasso_model)\n",
    "print(\"-\"*50)\n",
    "\n",
    "## Ridge\n",
    "\n",
    "ridge_model = Ridge()\n",
    "ridge_model.fit(X_train_scaled, y_train)\n",
    "print(\"Ridge\")\n",
    "scaled_metrics(ridge_model)\n",
    "print(\"-\"*50)\n",
    "\n",
    "## ElasticNet\n",
    "\n",
    "EN_model = ElasticNet(alpha=1)\n",
    "EN_model.fit(X_train_scaled, y_train)\n",
    "EN_model.score(X_val_scaled, y_val)\n",
    "print(\"ElasticNet\")\n",
    "scaled_metrics(EN_model)\n",
    "print(\"-\"*50)\n",
    "\n",
    "## Random Forest\n",
    "rf = RandomForestRegressor()\n",
    "rf.fit(X_train,y_train)\n",
    "print(\"Random Forest\")\n",
    "scaled_metrics(rf)"
   ]
  },
  {
   "cell_type": "markdown",
   "id": "75cc932b",
   "metadata": {},
   "source": [
    "#### Feature scaling was of no use, it did not improve anything.\n",
    "\n"
   ]
  },
  {
   "cell_type": "markdown",
   "id": "3f89831d",
   "metadata": {},
   "source": [
    "Random Forest performs well"
   ]
  },
  {
   "cell_type": "code",
   "execution_count": 43,
   "id": "4b048733",
   "metadata": {},
   "outputs": [
    {
     "name": "stdout",
     "output_type": "stream",
     "text": [
      "Train score 0.9619101266861599\n",
      "Test score 0.9518679598508045\n",
      "MAE: 59.23628255083474\n",
      "MSE: 36370.21673665235\n",
      "RMSE: 190.70977095223083\n"
     ]
    }
   ],
   "source": [
    "# retraining the random forest model on train + val, and scoring on test\n",
    "\n",
    "X_train_val = pd.concat([X_train,X_val])\n",
    "y_train_val = pd.concat([y_train,y_val])\n",
    "\n",
    "rf = RandomForestRegressor()\n",
    "rf.fit(X_train_val,y_train_val)\n",
    "\n",
    "print(f'Train score {rf.score(X_train_val, y_train_val)}')\n",
    "print(f'Test score {rf.score(X_test, y_test)}')\n",
    "print(\"MAE:\" , metrics.mean_absolute_error(y_test,rf.predict(X_test)))\n",
    "print(\"MSE:\" , metrics.mean_squared_error(y_test,rf.predict(X_test)))\n",
    "print(\"RMSE:\" , np.sqrt(metrics.mean_squared_error(y_test,rf.predict(X_test))))"
   ]
  },
  {
   "cell_type": "code",
   "execution_count": 44,
   "id": "af4b6f83",
   "metadata": {},
   "outputs": [],
   "source": [
    "y_train_val_pred = rf.predict(X_train_val)\n",
    "y_test_pred = rf.predict(X_test)"
   ]
  },
  {
   "cell_type": "code",
   "execution_count": 45,
   "id": "c6a4e708",
   "metadata": {},
   "outputs": [
    {
     "data": {
      "image/png": "[encoded data removed]",
      "text/plain": [
       "<Figure size 432x288 with 1 Axes>"
      ]
     },
     "metadata": {},
     "output_type": "display_data"
    }
   ],
   "source": [
    "plt.scatter(y_test,y_test_pred,alpha =0.2,color=\"DarkBlue\")\n",
    "plt.title('Actual vs. Predicted Airline Prices')\n",
    "plt.xlabel('Predicted Airline Prices')\n",
    "plt.ylabel('Actual Airline Prices');"
   ]
  },
  {
   "cell_type": "markdown",
   "id": "421d1f3c",
   "metadata": {},
   "source": [
    "### Hyperparameter Tuning"
   ]
  },
  {
   "cell_type": "code",
   "execution_count": 46,
   "id": "c8711a0b",
   "metadata": {},
   "outputs": [],
   "source": [
    "# randomized search CV\n",
    "\n",
    "n_estimators = [int(x) for x in np.linspace(start = 100, stop = 1200, num = 12)]\n",
    "max_features = ['auto', 'sqrt']\n",
    "max_depth = [int(x) for x in np.linspace(5, 30, num = 6)]\n",
    "min_samples_split = [2, 5, 10, 15, 100]\n",
    "min_samples_leaf = [1, 2, 5, 10]"
   ]
  },
  {
   "cell_type": "code",
   "execution_count": 47,
   "id": "f339bb12",
   "metadata": {},
   "outputs": [],
   "source": [
    "# create the random grid\n",
    "\n",
    "random_grid = {'n_estimators': n_estimators,\n",
    "               'max_features': max_features,\n",
    "               'max_depth': max_depth,\n",
    "               'min_samples_split': min_samples_split,\n",
    "               'min_samples_leaf': min_samples_leaf}"
   ]
  },
  {
   "cell_type": "code",
   "execution_count": 48,
   "id": "dc57bc25",
   "metadata": {},
   "outputs": [],
   "source": [
    "rf_random = RandomizedSearchCV(estimator = rf, param_distributions = random_grid,scoring='neg_mean_squared_error', n_iter = 10, cv = 5, verbose=2, n_jobs = 1)"
   ]
  },
  {
   "cell_type": "code",
   "execution_count": 49,
   "id": "af883f54",
   "metadata": {
    "scrolled": true
   },
   "outputs": [
    {
     "name": "stdout",
     "output_type": "stream",
     "text": [
      "Fitting 5 folds for each of 10 candidates, totalling 50 fits\n",
      "[CV] END max_depth=20, max_features=auto, min_samples_leaf=5, min_samples_split=2, n_estimators=1100; total time=  29.0s\n",
      "[CV] END max_depth=20, max_features=auto, min_samples_leaf=5, min_samples_split=2, n_estimators=1100; total time=  27.9s\n",
      "[CV] END max_depth=20, max_features=auto, min_samples_leaf=5, min_samples_split=2, n_estimators=1100; total time=  28.5s\n",
      "[CV] END max_depth=20, max_features=auto, min_samples_leaf=5, min_samples_split=2, n_estimators=1100; total time=  25.4s\n",
      "[CV] END max_depth=20, max_features=auto, min_samples_leaf=5, min_samples_split=2, n_estimators=1100; total time=  26.1s\n",
      "[CV] END max_depth=20, max_features=sqrt, min_samples_leaf=10, min_samples_split=2, n_estimators=1100; total time=  12.1s\n",
      "[CV] END max_depth=20, max_features=sqrt, min_samples_leaf=10, min_samples_split=2, n_estimators=1100; total time=  11.8s\n",
      "[CV] END max_depth=20, max_features=sqrt, min_samples_leaf=10, min_samples_split=2, n_estimators=1100; total time=  12.2s\n",
      "[CV] END max_depth=20, max_features=sqrt, min_samples_leaf=10, min_samples_split=2, n_estimators=1100; total time=  12.4s\n",
      "[CV] END max_depth=20, max_features=sqrt, min_samples_leaf=10, min_samples_split=2, n_estimators=1100; total time=  11.9s\n",
      "[CV] END max_depth=10, max_features=sqrt, min_samples_leaf=1, min_samples_split=10, n_estimators=700; total time=   6.5s\n",
      "[CV] END max_depth=10, max_features=sqrt, min_samples_leaf=1, min_samples_split=10, n_estimators=700; total time=   6.7s\n",
      "[CV] END max_depth=10, max_features=sqrt, min_samples_leaf=1, min_samples_split=10, n_estimators=700; total time=   6.2s\n",
      "[CV] END max_depth=10, max_features=sqrt, min_samples_leaf=1, min_samples_split=10, n_estimators=700; total time=   6.2s\n",
      "[CV] END max_depth=10, max_features=sqrt, min_samples_leaf=1, min_samples_split=10, n_estimators=700; total time=   6.1s\n",
      "[CV] END max_depth=5, max_features=auto, min_samples_leaf=5, min_samples_split=100, n_estimators=200; total time=   2.4s\n",
      "[CV] END max_depth=5, max_features=auto, min_samples_leaf=5, min_samples_split=100, n_estimators=200; total time=   2.3s\n",
      "[CV] END max_depth=5, max_features=auto, min_samples_leaf=5, min_samples_split=100, n_estimators=200; total time=   2.2s\n",
      "[CV] END max_depth=5, max_features=auto, min_samples_leaf=5, min_samples_split=100, n_estimators=200; total time=   2.3s\n",
      "[CV] END max_depth=5, max_features=auto, min_samples_leaf=5, min_samples_split=100, n_estimators=200; total time=   2.3s\n",
      "[CV] END max_depth=30, max_features=auto, min_samples_leaf=5, min_samples_split=15, n_estimators=100; total time=   2.4s\n",
      "[CV] END max_depth=30, max_features=auto, min_samples_leaf=5, min_samples_split=15, n_estimators=100; total time=   2.4s\n",
      "[CV] END max_depth=30, max_features=auto, min_samples_leaf=5, min_samples_split=15, n_estimators=100; total time=   2.3s\n",
      "[CV] END max_depth=30, max_features=auto, min_samples_leaf=5, min_samples_split=15, n_estimators=100; total time=   2.3s\n",
      "[CV] END max_depth=30, max_features=auto, min_samples_leaf=5, min_samples_split=15, n_estimators=100; total time=   2.2s\n",
      "[CV] END max_depth=5, max_features=sqrt, min_samples_leaf=1, min_samples_split=100, n_estimators=900; total time=   5.0s\n",
      "[CV] END max_depth=5, max_features=sqrt, min_samples_leaf=1, min_samples_split=100, n_estimators=900; total time=   5.0s\n",
      "[CV] END max_depth=5, max_features=sqrt, min_samples_leaf=1, min_samples_split=100, n_estimators=900; total time=   5.2s\n",
      "[CV] END max_depth=5, max_features=sqrt, min_samples_leaf=1, min_samples_split=100, n_estimators=900; total time=   5.0s\n",
      "[CV] END max_depth=5, max_features=sqrt, min_samples_leaf=1, min_samples_split=100, n_estimators=900; total time=   5.0s\n",
      "[CV] END max_depth=20, max_features=sqrt, min_samples_leaf=10, min_samples_split=15, n_estimators=900; total time=   9.6s\n",
      "[CV] END max_depth=20, max_features=sqrt, min_samples_leaf=10, min_samples_split=15, n_estimators=900; total time=   9.3s\n",
      "[CV] END max_depth=20, max_features=sqrt, min_samples_leaf=10, min_samples_split=15, n_estimators=900; total time=   9.5s\n",
      "[CV] END max_depth=20, max_features=sqrt, min_samples_leaf=10, min_samples_split=15, n_estimators=900; total time=  10.1s\n",
      "[CV] END max_depth=20, max_features=sqrt, min_samples_leaf=10, min_samples_split=15, n_estimators=900; total time=  10.1s\n",
      "[CV] END max_depth=5, max_features=sqrt, min_samples_leaf=2, min_samples_split=2, n_estimators=300; total time=   1.5s\n",
      "[CV] END max_depth=5, max_features=sqrt, min_samples_leaf=2, min_samples_split=2, n_estimators=300; total time=   1.5s\n",
      "[CV] END max_depth=5, max_features=sqrt, min_samples_leaf=2, min_samples_split=2, n_estimators=300; total time=   1.5s\n",
      "[CV] END max_depth=5, max_features=sqrt, min_samples_leaf=2, min_samples_split=2, n_estimators=300; total time=   1.5s\n",
      "[CV] END max_depth=5, max_features=sqrt, min_samples_leaf=2, min_samples_split=2, n_estimators=300; total time=   1.6s\n",
      "[CV] END max_depth=25, max_features=auto, min_samples_leaf=2, min_samples_split=15, n_estimators=1100; total time=  26.9s\n",
      "[CV] END max_depth=25, max_features=auto, min_samples_leaf=2, min_samples_split=15, n_estimators=1100; total time=  27.0s\n",
      "[CV] END max_depth=25, max_features=auto, min_samples_leaf=2, min_samples_split=15, n_estimators=1100; total time=  26.6s\n",
      "[CV] END max_depth=25, max_features=auto, min_samples_leaf=2, min_samples_split=15, n_estimators=1100; total time=  26.9s\n",
      "[CV] END max_depth=25, max_features=auto, min_samples_leaf=2, min_samples_split=15, n_estimators=1100; total time=  27.4s\n",
      "[CV] END max_depth=25, max_features=sqrt, min_samples_leaf=1, min_samples_split=15, n_estimators=800; total time=  10.5s\n",
      "[CV] END max_depth=25, max_features=sqrt, min_samples_leaf=1, min_samples_split=15, n_estimators=800; total time=  10.2s\n",
      "[CV] END max_depth=25, max_features=sqrt, min_samples_leaf=1, min_samples_split=15, n_estimators=800; total time=  10.5s\n",
      "[CV] END max_depth=25, max_features=sqrt, min_samples_leaf=1, min_samples_split=15, n_estimators=800; total time=   9.7s\n",
      "[CV] END max_depth=25, max_features=sqrt, min_samples_leaf=1, min_samples_split=15, n_estimators=800; total time=   9.9s\n"
     ]
    },
    {
     "data": {
      "text/plain": [
       "RandomizedSearchCV(cv=5, estimator=RandomForestRegressor(), n_jobs=1,\n",
       "                   param_distributions={'max_depth': [5, 10, 15, 20, 25, 30],\n",
       "                                        'max_features': ['auto', 'sqrt'],\n",
       "                                        'min_samples_leaf': [1, 2, 5, 10],\n",
       "                                        'min_samples_split': [2, 5, 10, 15,\n",
       "                                                              100],\n",
       "                                        'n_estimators': [100, 200, 300, 400,\n",
       "                                                         500, 600, 700, 800,\n",
       "                                                         900, 1000, 1100,\n",
       "                                                         1200]},\n",
       "                   scoring='neg_mean_squared_error', verbose=2)"
      ]
     },
     "execution_count": 49,
     "metadata": {},
     "output_type": "execute_result"
    }
   ],
   "source": [
    "rf_random.fit(X_train_val,y_train_val)"
   ]
  },
  {
   "cell_type": "code",
   "execution_count": 50,
   "id": "cccb8a3f",
   "metadata": {},
   "outputs": [
    {
     "data": {
      "text/plain": [
       "{'n_estimators': 800,\n",
       " 'min_samples_split': 15,\n",
       " 'min_samples_leaf': 1,\n",
       " 'max_features': 'sqrt',\n",
       " 'max_depth': 25}"
      ]
     },
     "execution_count": 50,
     "metadata": {},
     "output_type": "execute_result"
    }
   ],
   "source": [
    "rf_random.best_params_"
   ]
  },
  {
   "cell_type": "code",
   "execution_count": 51,
   "id": "56390fd4",
   "metadata": {},
   "outputs": [],
   "source": [
    "prediction = rf_random.predict(X_test)"
   ]
  },
  {
   "cell_type": "code",
   "execution_count": 52,
   "id": "3665c015",
   "metadata": {},
   "outputs": [
    {
     "data": {
      "image/png": "[encoded data removed]",
      "text/plain": [
       "<Figure size 432x288 with 1 Axes>"
      ]
     },
     "metadata": {},
     "output_type": "display_data"
    }
   ],
   "source": [
    "plt.scatter(y_test,prediction,alpha =0.2,color=\"DarkBlue\")\n",
    "plt.title('Actual vs. Predicted Airline Prices')\n",
    "plt.xlabel('Predicted Airline Prices')\n",
    "plt.ylabel('Actual Airline Prices');"
   ]
  },
  {
   "cell_type": "code",
   "execution_count": 53,
   "id": "c76e13d3",
   "metadata": {},
   "outputs": [
    {
     "name": "stdout",
     "output_type": "stream",
     "text": [
      "MAE: 65.66816104723297\n",
      "MSE: 36406.94008246547\n",
      "RMSE: 190.80602737457082\n"
     ]
    }
   ],
   "source": [
    "print(\"MAE:\" , metrics.mean_absolute_error(y_test,prediction))\n",
    "print(\"MSE:\" , metrics.mean_squared_error(y_test,prediction))\n",
    "print(\"RMSE:\" , np.sqrt(metrics.mean_squared_error(y_test,prediction)))"
   ]
  },
  {
   "cell_type": "markdown",
   "id": "e85d0981",
   "metadata": {},
   "source": [
    "#### Therefore, hyperparameter tuning did not improve the model"
   ]
  },
  {
   "cell_type": "code",
   "execution_count": 59,
   "id": "e56e3e3a",
   "metadata": {},
   "outputs": [
    {
     "data": {
      "text/html": [
       "<div>\n",
       "<style scoped>\n",
       "    .dataframe tbody tr th:only-of-type {\n",
       "        vertical-align: middle;\n",
       "    }\n",
       "\n",
       "    .dataframe tbody tr th {\n",
       "        vertical-align: top;\n",
       "    }\n",
       "\n",
       "    .dataframe thead th {\n",
       "        text-align: right;\n",
       "    }\n",
       "</style>\n",
       "<table border=\"1\" class=\"dataframe\">\n",
       "  <thead>\n",
       "    <tr style=\"text-align: right;\">\n",
       "      <th></th>\n",
       "      <th>Predicted Price</th>\n",
       "      <th>Actual Price</th>\n",
       "    </tr>\n",
       "  </thead>\n",
       "  <tbody>\n",
       "    <tr>\n",
       "      <th>0</th>\n",
       "      <td>3002.290930</td>\n",
       "      <td>2984.00</td>\n",
       "    </tr>\n",
       "    <tr>\n",
       "      <th>1</th>\n",
       "      <td>1494.376977</td>\n",
       "      <td>1495.20</td>\n",
       "    </tr>\n",
       "    <tr>\n",
       "      <th>2</th>\n",
       "      <td>589.927472</td>\n",
       "      <td>578.13</td>\n",
       "    </tr>\n",
       "    <tr>\n",
       "      <th>3</th>\n",
       "      <td>723.167406</td>\n",
       "      <td>719.20</td>\n",
       "    </tr>\n",
       "    <tr>\n",
       "      <th>4</th>\n",
       "      <td>976.554543</td>\n",
       "      <td>975.73</td>\n",
       "    </tr>\n",
       "    <tr>\n",
       "      <th>...</th>\n",
       "      <td>...</td>\n",
       "      <td>...</td>\n",
       "    </tr>\n",
       "    <tr>\n",
       "      <th>10015</th>\n",
       "      <td>461.165757</td>\n",
       "      <td>419.20</td>\n",
       "    </tr>\n",
       "    <tr>\n",
       "      <th>10016</th>\n",
       "      <td>415.878484</td>\n",
       "      <td>385.33</td>\n",
       "    </tr>\n",
       "    <tr>\n",
       "      <th>10017</th>\n",
       "      <td>128.967545</td>\n",
       "      <td>129.07</td>\n",
       "    </tr>\n",
       "    <tr>\n",
       "      <th>10018</th>\n",
       "      <td>1534.410700</td>\n",
       "      <td>1529.60</td>\n",
       "    </tr>\n",
       "    <tr>\n",
       "      <th>10019</th>\n",
       "      <td>2671.900478</td>\n",
       "      <td>2670.67</td>\n",
       "    </tr>\n",
       "  </tbody>\n",
       "</table>\n",
       "<p>10020 rows × 2 columns</p>\n",
       "</div>"
      ],
      "text/plain": [
       "       Predicted Price  Actual Price\n",
       "0          3002.290930       2984.00\n",
       "1          1494.376977       1495.20\n",
       "2           589.927472        578.13\n",
       "3           723.167406        719.20\n",
       "4           976.554543        975.73\n",
       "...                ...           ...\n",
       "10015       461.165757        419.20\n",
       "10016       415.878484        385.33\n",
       "10017       128.967545        129.07\n",
       "10018      1534.410700       1529.60\n",
       "10019      2671.900478       2670.67\n",
       "\n",
       "[10020 rows x 2 columns]"
      ]
     },
     "execution_count": 59,
     "metadata": {},
     "output_type": "execute_result"
    }
   ],
   "source": [
    "test_df = pd.DataFrame({\n",
    "    \"Predicted Price\" : rf.predict(X_test),\n",
    "    \"Actual Price\" : y_test,\n",
    "}).reset_index(drop = True)\n",
    "\n",
    "test_df"
   ]
  },
  {
   "cell_type": "markdown",
   "id": "4f134f34",
   "metadata": {},
   "source": [
    "## Saving The Final Model: <a class=\"anchor\" id=\"model\"></a>"
   ]
  },
  {
   "cell_type": "code",
   "execution_count": 60,
   "id": "e75f71cc",
   "metadata": {},
   "outputs": [],
   "source": [
    "# save the model\n",
    "file = open('rf_flight_prediction.pkl', 'wb')\n",
    "pkl.dump(rf, file)"
   ]
  },
  {
   "cell_type": "code",
   "execution_count": 61,
   "id": "e40d7102",
   "metadata": {},
   "outputs": [],
   "source": [
    "# open the model\n",
    "model = open('rf_flight_prediction.pkl','rb')\n",
    "rf_flight_prediction = pkl.load(model)"
   ]
  },
  {
   "cell_type": "code",
   "execution_count": 62,
   "id": "b59bb8bb",
   "metadata": {},
   "outputs": [
    {
     "name": "stdout",
     "output_type": "stream",
     "text": [
      "R2 score 0.9518679598508045\n",
      "MAE: 59.23628255083474\n",
      "MSE: 36370.21673665235\n",
      "RMSE: 190.70977095223083\n"
     ]
    }
   ],
   "source": [
    "print(f'R2 score {metrics.r2_score(y_test,rf_flight_prediction.predict(X_test))}')\n",
    "print(\"MAE:\" , metrics.mean_absolute_error(y_test,rf_flight_prediction.predict(X_test)))\n",
    "print(\"MSE:\" , metrics.mean_squared_error(y_test,rf_flight_prediction.predict(X_test)))\n",
    "print(\"RMSE:\" , np.sqrt(metrics.mean_squared_error(y_test,rf_flight_prediction.predict(X_test))))"
   ]
  },
  {
   "cell_type": "markdown",
   "id": "91bcaf45",
   "metadata": {},
   "source": [
    "### predicted flight ticket prices within around  ≈ $61.87"
   ]
  }
 ],
 "metadata": {
  "kernelspec": {
   "display_name": "Python 3",
   "language": "python",
   "name": "python3"
  },
  "language_info": {
   "codemirror_mode": {
    "name": "ipython",
    "version": 3
   },
   "file_extension": ".py",
   "mimetype": "text/x-python",
   "name": "python",
   "nbconvert_exporter": "python",
   "pygments_lexer": "ipython3",
   "version": "3.7.10"
  }
 },
 "nbformat": 4,
 "nbformat_minor": 5
}
